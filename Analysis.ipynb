{
 "cells": [
  {
   "cell_type": "markdown",
   "id": "c9fc1ea4-98c8-4535-9c34-bf643d646b5c",
   "metadata": {},
   "source": [
    "# Setting up"
   ]
  },
  {
   "cell_type": "code",
   "execution_count": 162,
   "id": "844106a0-7066-471e-ac40-0f4ed8f62f25",
   "metadata": {},
   "outputs": [],
   "source": [
    "# Importing the libraries \n",
    "library(tidyverse)\n",
    "library(ggsignif)\n"
   ]
  },
  {
   "cell_type": "code",
   "execution_count": 163,
   "id": "552d5ebb-fde7-4d33-85c8-81cc7ac6bd17",
   "metadata": {},
   "outputs": [
    {
     "name": "stderr",
     "output_type": "stream",
     "text": [
      "\u001b[1mRows: \u001b[22m\u001b[34m24\u001b[39m \u001b[1mColumns: \u001b[22m\u001b[34m13\u001b[39m\n",
      "\u001b[36m──\u001b[39m \u001b[1mColumn specification\u001b[22m \u001b[36m────────────────────────────────────────────────────────\u001b[39m\n",
      "\u001b[1mDelimiter:\u001b[22m \",\"\n",
      "\u001b[31mchr\u001b[39m (9): egg_label, egg_code, hh_Stage, embryo_area_mm2, eye_diameter_mm, bu...\n",
      "\u001b[32mdbl\u001b[39m (4): wk, treatment, alive, post_exp_egg_weight\n",
      "\n",
      "\u001b[36mℹ\u001b[39m Use `spec()` to retrieve the full column specification for this data.\n",
      "\u001b[36mℹ\u001b[39m Specify the column types or set `show_col_types = FALSE` to quiet this message.\n"
     ]
    }
   ],
   "source": [
    "# reading data\n",
    "data <- read_csv(\"biol331_data.csv\")"
   ]
  },
  {
   "cell_type": "code",
   "execution_count": 164,
   "id": "89a23655-3c4b-4172-b375-bcfbe7de93d8",
   "metadata": {},
   "outputs": [
    {
     "data": {
      "text/html": [
       "<table class=\"dataframe\">\n",
       "<caption>A tibble: 6 × 13</caption>\n",
       "<thead>\n",
       "\t<tr><th scope=col>wk</th><th scope=col>treatment</th><th scope=col>egg_label</th><th scope=col>alive</th><th scope=col>egg_code</th><th scope=col>hh_Stage</th><th scope=col>embryo_area_mm2</th><th scope=col>eye_diameter_mm</th><th scope=col>bump_to_beak_length_mm</th><th scope=col>embryo_length_mm</th><th scope=col>pre_exp_egg_weight</th><th scope=col>post_exp_egg_weight</th><th scope=col>embryo_weight</th></tr>\n",
       "\t<tr><th scope=col>&lt;dbl&gt;</th><th scope=col>&lt;dbl&gt;</th><th scope=col>&lt;chr&gt;</th><th scope=col>&lt;dbl&gt;</th><th scope=col>&lt;chr&gt;</th><th scope=col>&lt;chr&gt;</th><th scope=col>&lt;chr&gt;</th><th scope=col>&lt;chr&gt;</th><th scope=col>&lt;chr&gt;</th><th scope=col>&lt;chr&gt;</th><th scope=col>&lt;chr&gt;</th><th scope=col>&lt;dbl&gt;</th><th scope=col>&lt;chr&gt;</th></tr>\n",
       "</thead>\n",
       "<tbody>\n",
       "\t<tr><td>1</td><td> 0</td><td>1A</td><td>0</td><td>1-1A</td><td>n/a</td><td>n/a    </td><td>n/a  </td><td>n/a   </td><td>n/a   </td><td>n/a</td><td>57.67</td><td>n/a </td></tr>\n",
       "\t<tr><td>1</td><td> 0</td><td>1B</td><td>1</td><td>1-1B</td><td>29 </td><td>143.374</td><td>5.335</td><td>11.31 </td><td>27.179</td><td>n/a</td><td>54.06</td><td>0.81</td></tr>\n",
       "\t<tr><td>1</td><td> 0</td><td>1C</td><td>1</td><td>1-1C</td><td>29 </td><td>154.968</td><td>5.287</td><td>11.873</td><td>26.491</td><td>n/a</td><td>51.63</td><td>0.91</td></tr>\n",
       "\t<tr><td>1</td><td> 0</td><td>1D</td><td>1</td><td>1-1D</td><td>30 </td><td>120.004</td><td>4.595</td><td>10.135</td><td>23.468</td><td>n/a</td><td>60.08</td><td>0.82</td></tr>\n",
       "\t<tr><td>1</td><td>48</td><td>2A</td><td>1</td><td>1-2A</td><td>30 </td><td>119.195</td><td>4.063</td><td>9.887 </td><td>24.819</td><td>n/a</td><td>50.47</td><td>0.64</td></tr>\n",
       "\t<tr><td>1</td><td>48</td><td>2B</td><td>1</td><td>1-2B</td><td>30 </td><td>134.437</td><td>4.595</td><td>11.206</td><td>24.739</td><td>n/a</td><td>48.89</td><td>0.57</td></tr>\n",
       "</tbody>\n",
       "</table>\n"
      ],
      "text/latex": [
       "A tibble: 6 × 13\n",
       "\\begin{tabular}{lllllllllllll}\n",
       " wk & treatment & egg\\_label & alive & egg\\_code & hh\\_Stage & embryo\\_area\\_mm2 & eye\\_diameter\\_mm & bump\\_to\\_beak\\_length\\_mm & embryo\\_length\\_mm & pre\\_exp\\_egg\\_weight & post\\_exp\\_egg\\_weight & embryo\\_weight\\\\\n",
       " <dbl> & <dbl> & <chr> & <dbl> & <chr> & <chr> & <chr> & <chr> & <chr> & <chr> & <chr> & <dbl> & <chr>\\\\\n",
       "\\hline\n",
       "\t 1 &  0 & 1A & 0 & 1-1A & n/a & n/a     & n/a   & n/a    & n/a    & n/a & 57.67 & n/a \\\\\n",
       "\t 1 &  0 & 1B & 1 & 1-1B & 29  & 143.374 & 5.335 & 11.31  & 27.179 & n/a & 54.06 & 0.81\\\\\n",
       "\t 1 &  0 & 1C & 1 & 1-1C & 29  & 154.968 & 5.287 & 11.873 & 26.491 & n/a & 51.63 & 0.91\\\\\n",
       "\t 1 &  0 & 1D & 1 & 1-1D & 30  & 120.004 & 4.595 & 10.135 & 23.468 & n/a & 60.08 & 0.82\\\\\n",
       "\t 1 & 48 & 2A & 1 & 1-2A & 30  & 119.195 & 4.063 & 9.887  & 24.819 & n/a & 50.47 & 0.64\\\\\n",
       "\t 1 & 48 & 2B & 1 & 1-2B & 30  & 134.437 & 4.595 & 11.206 & 24.739 & n/a & 48.89 & 0.57\\\\\n",
       "\\end{tabular}\n"
      ],
      "text/markdown": [
       "\n",
       "A tibble: 6 × 13\n",
       "\n",
       "| wk &lt;dbl&gt; | treatment &lt;dbl&gt; | egg_label &lt;chr&gt; | alive &lt;dbl&gt; | egg_code &lt;chr&gt; | hh_Stage &lt;chr&gt; | embryo_area_mm2 &lt;chr&gt; | eye_diameter_mm &lt;chr&gt; | bump_to_beak_length_mm &lt;chr&gt; | embryo_length_mm &lt;chr&gt; | pre_exp_egg_weight &lt;chr&gt; | post_exp_egg_weight &lt;dbl&gt; | embryo_weight &lt;chr&gt; |\n",
       "|---|---|---|---|---|---|---|---|---|---|---|---|---|\n",
       "| 1 |  0 | 1A | 0 | 1-1A | n/a | n/a     | n/a   | n/a    | n/a    | n/a | 57.67 | n/a  |\n",
       "| 1 |  0 | 1B | 1 | 1-1B | 29  | 143.374 | 5.335 | 11.31  | 27.179 | n/a | 54.06 | 0.81 |\n",
       "| 1 |  0 | 1C | 1 | 1-1C | 29  | 154.968 | 5.287 | 11.873 | 26.491 | n/a | 51.63 | 0.91 |\n",
       "| 1 |  0 | 1D | 1 | 1-1D | 30  | 120.004 | 4.595 | 10.135 | 23.468 | n/a | 60.08 | 0.82 |\n",
       "| 1 | 48 | 2A | 1 | 1-2A | 30  | 119.195 | 4.063 | 9.887  | 24.819 | n/a | 50.47 | 0.64 |\n",
       "| 1 | 48 | 2B | 1 | 1-2B | 30  | 134.437 | 4.595 | 11.206 | 24.739 | n/a | 48.89 | 0.57 |\n",
       "\n"
      ],
      "text/plain": [
       "  wk treatment egg_label alive egg_code hh_Stage embryo_area_mm2\n",
       "1 1   0        1A        0     1-1A     n/a      n/a            \n",
       "2 1   0        1B        1     1-1B     29       143.374        \n",
       "3 1   0        1C        1     1-1C     29       154.968        \n",
       "4 1   0        1D        1     1-1D     30       120.004        \n",
       "5 1  48        2A        1     1-2A     30       119.195        \n",
       "6 1  48        2B        1     1-2B     30       134.437        \n",
       "  eye_diameter_mm bump_to_beak_length_mm embryo_length_mm pre_exp_egg_weight\n",
       "1 n/a             n/a                    n/a              n/a               \n",
       "2 5.335           11.31                  27.179           n/a               \n",
       "3 5.287           11.873                 26.491           n/a               \n",
       "4 4.595           10.135                 23.468           n/a               \n",
       "5 4.063           9.887                  24.819           n/a               \n",
       "6 4.595           11.206                 24.739           n/a               \n",
       "  post_exp_egg_weight embryo_weight\n",
       "1 57.67               n/a          \n",
       "2 54.06               0.81         \n",
       "3 51.63               0.91         \n",
       "4 60.08               0.82         \n",
       "5 50.47               0.64         \n",
       "6 48.89               0.57         "
      ]
     },
     "metadata": {},
     "output_type": "display_data"
    }
   ],
   "source": [
    "# data preview\n",
    "head(data)"
   ]
  },
  {
   "cell_type": "code",
   "execution_count": 166,
   "id": "519e54d6-37eb-4c33-b239-1b302c593240",
   "metadata": {},
   "outputs": [
    {
     "name": "stderr",
     "output_type": "stream",
     "text": [
      "Warning message in eval(expr, envir, enclos):\n",
      "“NAs introduced by coercion”\n",
      "Warning message in eval(expr, envir, enclos):\n",
      "“NAs introduced by coercion”\n",
      "Warning message in eval(expr, envir, enclos):\n",
      "“NAs introduced by coercion”\n",
      "Warning message in eval(expr, envir, enclos):\n",
      "“NAs introduced by coercion”\n",
      "Warning message in eval(expr, envir, enclos):\n",
      "“NAs introduced by coercion”\n",
      "Warning message in eval(expr, envir, enclos):\n",
      "“NAs introduced by coercion”\n"
     ]
    },
    {
     "data": {
      "text/html": [
       "<table class=\"dataframe\">\n",
       "<caption>A spec_tbl_df: 24 × 13</caption>\n",
       "<thead>\n",
       "\t<tr><th scope=col>wk</th><th scope=col>treatment</th><th scope=col>egg_label</th><th scope=col>alive</th><th scope=col>egg_code</th><th scope=col>hh_Stage</th><th scope=col>embryo_area_mm2</th><th scope=col>eye_diameter_mm</th><th scope=col>bump_to_beak_length_mm</th><th scope=col>embryo_length_mm</th><th scope=col>pre_exp_egg_weight</th><th scope=col>post_exp_egg_weight</th><th scope=col>embryo_weight</th></tr>\n",
       "\t<tr><th scope=col>&lt;dbl&gt;</th><th scope=col>&lt;fct&gt;</th><th scope=col>&lt;chr&gt;</th><th scope=col>&lt;fct&gt;</th><th scope=col>&lt;chr&gt;</th><th scope=col>&lt;fct&gt;</th><th scope=col>&lt;dbl&gt;</th><th scope=col>&lt;dbl&gt;</th><th scope=col>&lt;dbl&gt;</th><th scope=col>&lt;dbl&gt;</th><th scope=col>&lt;dbl&gt;</th><th scope=col>&lt;dbl&gt;</th><th scope=col>&lt;dbl&gt;</th></tr>\n",
       "</thead>\n",
       "<tbody>\n",
       "\t<tr><td>1</td><td>0  </td><td>1A</td><td>0</td><td>1-1A</td><td>n/a</td><td>     NA</td><td>   NA</td><td>    NA</td><td>    NA</td><td>   NA</td><td>57.67</td><td>  NA</td></tr>\n",
       "\t<tr><td>1</td><td>0  </td><td>1B</td><td>1</td><td>1-1B</td><td>29 </td><td>143.374</td><td>5.335</td><td>11.310</td><td>27.179</td><td>   NA</td><td>54.06</td><td>0.81</td></tr>\n",
       "\t<tr><td>1</td><td>0  </td><td>1C</td><td>1</td><td>1-1C</td><td>29 </td><td>154.968</td><td>5.287</td><td>11.873</td><td>26.491</td><td>   NA</td><td>51.63</td><td>0.91</td></tr>\n",
       "\t<tr><td>1</td><td>0  </td><td>1D</td><td>1</td><td>1-1D</td><td>30 </td><td>120.004</td><td>4.595</td><td>10.135</td><td>23.468</td><td>   NA</td><td>60.08</td><td>0.82</td></tr>\n",
       "\t<tr><td>1</td><td>48 </td><td>2A</td><td>1</td><td>1-2A</td><td>30 </td><td>119.195</td><td>4.063</td><td> 9.887</td><td>24.819</td><td>   NA</td><td>50.47</td><td>0.64</td></tr>\n",
       "\t<tr><td>1</td><td>48 </td><td>2B</td><td>1</td><td>1-2B</td><td>30 </td><td>134.437</td><td>4.595</td><td>11.206</td><td>24.739</td><td>   NA</td><td>48.89</td><td>0.57</td></tr>\n",
       "\t<tr><td>1</td><td>48 </td><td>2C</td><td>1</td><td>1-2C</td><td>29 </td><td>162.930</td><td>5.375</td><td>10.267</td><td>29.976</td><td>   NA</td><td>57.04</td><td>0.49</td></tr>\n",
       "\t<tr><td>1</td><td>48 </td><td>2D</td><td>1</td><td>1-2D</td><td>29 </td><td>131.186</td><td>4.637</td><td> 9.428</td><td>26.424</td><td>   NA</td><td>55.43</td><td>0.41</td></tr>\n",
       "\t<tr><td>1</td><td>160</td><td>3A</td><td>0</td><td>1-3A</td><td>n/a</td><td>     NA</td><td>   NA</td><td>    NA</td><td>    NA</td><td>   NA</td><td>52.33</td><td>  NA</td></tr>\n",
       "\t<tr><td>1</td><td>160</td><td>3B</td><td>0</td><td>1-3B</td><td>n/a</td><td>     NA</td><td>   NA</td><td>    NA</td><td>    NA</td><td>   NA</td><td>50.96</td><td>  NA</td></tr>\n",
       "\t<tr><td>1</td><td>160</td><td>3C</td><td>1</td><td>1-3C</td><td>28 </td><td>123.596</td><td>4.499</td><td>10.459</td><td>23.573</td><td>   NA</td><td>55.68</td><td>0.77</td></tr>\n",
       "\t<tr><td>1</td><td>160</td><td>3D</td><td>1</td><td>1-3D</td><td>29 </td><td>149.771</td><td>5.523</td><td>11.355</td><td>26.108</td><td>   NA</td><td>54.15</td><td>0.94</td></tr>\n",
       "\t<tr><td>2</td><td>0  </td><td>1A</td><td>1</td><td>2-1A</td><td>29 </td><td>133.915</td><td>4.389</td><td>10.646</td><td>22.478</td><td>62.39</td><td>60.85</td><td>0.63</td></tr>\n",
       "\t<tr><td>2</td><td>0  </td><td>1B</td><td>0</td><td>2-1B</td><td>n/a</td><td>     NA</td><td>   NA</td><td>    NA</td><td>    NA</td><td>56.51</td><td>54.93</td><td>  NA</td></tr>\n",
       "\t<tr><td>2</td><td>0  </td><td>1C</td><td>0</td><td>2-1C</td><td>n/a</td><td>     NA</td><td>   NA</td><td>    NA</td><td>    NA</td><td>59.99</td><td>58.65</td><td>  NA</td></tr>\n",
       "\t<tr><td>2</td><td>0  </td><td>1D</td><td>0</td><td>2-1D</td><td>n/a</td><td>     NA</td><td>   NA</td><td>    NA</td><td>    NA</td><td>57.77</td><td>56.06</td><td>  NA</td></tr>\n",
       "\t<tr><td>2</td><td>48 </td><td>2A</td><td>0</td><td>2-2A</td><td>n/a</td><td>     NA</td><td>   NA</td><td>    NA</td><td>    NA</td><td>53.00</td><td>51.66</td><td>  NA</td></tr>\n",
       "\t<tr><td>2</td><td>48 </td><td>2B</td><td>0</td><td>2-2B</td><td>n/a</td><td>     NA</td><td>   NA</td><td>    NA</td><td>    NA</td><td>54.76</td><td>53.43</td><td>  NA</td></tr>\n",
       "\t<tr><td>2</td><td>48 </td><td>2C</td><td>1</td><td>2-2C</td><td>29 </td><td>133.975</td><td>4.903</td><td>11.165</td><td>22.246</td><td>61.88</td><td>60.40</td><td>0.75</td></tr>\n",
       "\t<tr><td>2</td><td>48 </td><td>2D</td><td>1</td><td>2-2D</td><td>29 </td><td>120.610</td><td>4.820</td><td>10.181</td><td>20.208</td><td>62.97</td><td>61.44</td><td>0.71</td></tr>\n",
       "\t<tr><td>2</td><td>160</td><td>3A</td><td>1</td><td>2-3A</td><td>28 </td><td> 83.259</td><td>3.412</td><td> 8.647</td><td>23.794</td><td>54.07</td><td>52.93</td><td>0.38</td></tr>\n",
       "\t<tr><td>2</td><td>160</td><td>3B</td><td>1</td><td>2-3B</td><td>29 </td><td>114.598</td><td>4.208</td><td>10.114</td><td>23.334</td><td>51.23</td><td>50.15</td><td>0.55</td></tr>\n",
       "\t<tr><td>2</td><td>160</td><td>3C</td><td>1</td><td>2-3C</td><td>29 </td><td>121.291</td><td>4.010</td><td>10.465</td><td>21.684</td><td>64.83</td><td>63.66</td><td>0.54</td></tr>\n",
       "\t<tr><td>2</td><td>160</td><td>3D</td><td>1</td><td>2-3D</td><td>29 </td><td>119.207</td><td>4.080</td><td>10.098</td><td>21.705</td><td>60.46</td><td>59.35</td><td>0.50</td></tr>\n",
       "</tbody>\n",
       "</table>\n"
      ],
      "text/latex": [
       "A spec\\_tbl\\_df: 24 × 13\n",
       "\\begin{tabular}{lllllllllllll}\n",
       " wk & treatment & egg\\_label & alive & egg\\_code & hh\\_Stage & embryo\\_area\\_mm2 & eye\\_diameter\\_mm & bump\\_to\\_beak\\_length\\_mm & embryo\\_length\\_mm & pre\\_exp\\_egg\\_weight & post\\_exp\\_egg\\_weight & embryo\\_weight\\\\\n",
       " <dbl> & <fct> & <chr> & <fct> & <chr> & <fct> & <dbl> & <dbl> & <dbl> & <dbl> & <dbl> & <dbl> & <dbl>\\\\\n",
       "\\hline\n",
       "\t 1 & 0   & 1A & 0 & 1-1A & n/a &      NA &    NA &     NA &     NA &    NA & 57.67 &   NA\\\\\n",
       "\t 1 & 0   & 1B & 1 & 1-1B & 29  & 143.374 & 5.335 & 11.310 & 27.179 &    NA & 54.06 & 0.81\\\\\n",
       "\t 1 & 0   & 1C & 1 & 1-1C & 29  & 154.968 & 5.287 & 11.873 & 26.491 &    NA & 51.63 & 0.91\\\\\n",
       "\t 1 & 0   & 1D & 1 & 1-1D & 30  & 120.004 & 4.595 & 10.135 & 23.468 &    NA & 60.08 & 0.82\\\\\n",
       "\t 1 & 48  & 2A & 1 & 1-2A & 30  & 119.195 & 4.063 &  9.887 & 24.819 &    NA & 50.47 & 0.64\\\\\n",
       "\t 1 & 48  & 2B & 1 & 1-2B & 30  & 134.437 & 4.595 & 11.206 & 24.739 &    NA & 48.89 & 0.57\\\\\n",
       "\t 1 & 48  & 2C & 1 & 1-2C & 29  & 162.930 & 5.375 & 10.267 & 29.976 &    NA & 57.04 & 0.49\\\\\n",
       "\t 1 & 48  & 2D & 1 & 1-2D & 29  & 131.186 & 4.637 &  9.428 & 26.424 &    NA & 55.43 & 0.41\\\\\n",
       "\t 1 & 160 & 3A & 0 & 1-3A & n/a &      NA &    NA &     NA &     NA &    NA & 52.33 &   NA\\\\\n",
       "\t 1 & 160 & 3B & 0 & 1-3B & n/a &      NA &    NA &     NA &     NA &    NA & 50.96 &   NA\\\\\n",
       "\t 1 & 160 & 3C & 1 & 1-3C & 28  & 123.596 & 4.499 & 10.459 & 23.573 &    NA & 55.68 & 0.77\\\\\n",
       "\t 1 & 160 & 3D & 1 & 1-3D & 29  & 149.771 & 5.523 & 11.355 & 26.108 &    NA & 54.15 & 0.94\\\\\n",
       "\t 2 & 0   & 1A & 1 & 2-1A & 29  & 133.915 & 4.389 & 10.646 & 22.478 & 62.39 & 60.85 & 0.63\\\\\n",
       "\t 2 & 0   & 1B & 0 & 2-1B & n/a &      NA &    NA &     NA &     NA & 56.51 & 54.93 &   NA\\\\\n",
       "\t 2 & 0   & 1C & 0 & 2-1C & n/a &      NA &    NA &     NA &     NA & 59.99 & 58.65 &   NA\\\\\n",
       "\t 2 & 0   & 1D & 0 & 2-1D & n/a &      NA &    NA &     NA &     NA & 57.77 & 56.06 &   NA\\\\\n",
       "\t 2 & 48  & 2A & 0 & 2-2A & n/a &      NA &    NA &     NA &     NA & 53.00 & 51.66 &   NA\\\\\n",
       "\t 2 & 48  & 2B & 0 & 2-2B & n/a &      NA &    NA &     NA &     NA & 54.76 & 53.43 &   NA\\\\\n",
       "\t 2 & 48  & 2C & 1 & 2-2C & 29  & 133.975 & 4.903 & 11.165 & 22.246 & 61.88 & 60.40 & 0.75\\\\\n",
       "\t 2 & 48  & 2D & 1 & 2-2D & 29  & 120.610 & 4.820 & 10.181 & 20.208 & 62.97 & 61.44 & 0.71\\\\\n",
       "\t 2 & 160 & 3A & 1 & 2-3A & 28  &  83.259 & 3.412 &  8.647 & 23.794 & 54.07 & 52.93 & 0.38\\\\\n",
       "\t 2 & 160 & 3B & 1 & 2-3B & 29  & 114.598 & 4.208 & 10.114 & 23.334 & 51.23 & 50.15 & 0.55\\\\\n",
       "\t 2 & 160 & 3C & 1 & 2-3C & 29  & 121.291 & 4.010 & 10.465 & 21.684 & 64.83 & 63.66 & 0.54\\\\\n",
       "\t 2 & 160 & 3D & 1 & 2-3D & 29  & 119.207 & 4.080 & 10.098 & 21.705 & 60.46 & 59.35 & 0.50\\\\\n",
       "\\end{tabular}\n"
      ],
      "text/markdown": [
       "\n",
       "A spec_tbl_df: 24 × 13\n",
       "\n",
       "| wk &lt;dbl&gt; | treatment &lt;fct&gt; | egg_label &lt;chr&gt; | alive &lt;fct&gt; | egg_code &lt;chr&gt; | hh_Stage &lt;fct&gt; | embryo_area_mm2 &lt;dbl&gt; | eye_diameter_mm &lt;dbl&gt; | bump_to_beak_length_mm &lt;dbl&gt; | embryo_length_mm &lt;dbl&gt; | pre_exp_egg_weight &lt;dbl&gt; | post_exp_egg_weight &lt;dbl&gt; | embryo_weight &lt;dbl&gt; |\n",
       "|---|---|---|---|---|---|---|---|---|---|---|---|---|\n",
       "| 1 | 0   | 1A | 0 | 1-1A | n/a |      NA |    NA |     NA |     NA |    NA | 57.67 |   NA |\n",
       "| 1 | 0   | 1B | 1 | 1-1B | 29  | 143.374 | 5.335 | 11.310 | 27.179 |    NA | 54.06 | 0.81 |\n",
       "| 1 | 0   | 1C | 1 | 1-1C | 29  | 154.968 | 5.287 | 11.873 | 26.491 |    NA | 51.63 | 0.91 |\n",
       "| 1 | 0   | 1D | 1 | 1-1D | 30  | 120.004 | 4.595 | 10.135 | 23.468 |    NA | 60.08 | 0.82 |\n",
       "| 1 | 48  | 2A | 1 | 1-2A | 30  | 119.195 | 4.063 |  9.887 | 24.819 |    NA | 50.47 | 0.64 |\n",
       "| 1 | 48  | 2B | 1 | 1-2B | 30  | 134.437 | 4.595 | 11.206 | 24.739 |    NA | 48.89 | 0.57 |\n",
       "| 1 | 48  | 2C | 1 | 1-2C | 29  | 162.930 | 5.375 | 10.267 | 29.976 |    NA | 57.04 | 0.49 |\n",
       "| 1 | 48  | 2D | 1 | 1-2D | 29  | 131.186 | 4.637 |  9.428 | 26.424 |    NA | 55.43 | 0.41 |\n",
       "| 1 | 160 | 3A | 0 | 1-3A | n/a |      NA |    NA |     NA |     NA |    NA | 52.33 |   NA |\n",
       "| 1 | 160 | 3B | 0 | 1-3B | n/a |      NA |    NA |     NA |     NA |    NA | 50.96 |   NA |\n",
       "| 1 | 160 | 3C | 1 | 1-3C | 28  | 123.596 | 4.499 | 10.459 | 23.573 |    NA | 55.68 | 0.77 |\n",
       "| 1 | 160 | 3D | 1 | 1-3D | 29  | 149.771 | 5.523 | 11.355 | 26.108 |    NA | 54.15 | 0.94 |\n",
       "| 2 | 0   | 1A | 1 | 2-1A | 29  | 133.915 | 4.389 | 10.646 | 22.478 | 62.39 | 60.85 | 0.63 |\n",
       "| 2 | 0   | 1B | 0 | 2-1B | n/a |      NA |    NA |     NA |     NA | 56.51 | 54.93 |   NA |\n",
       "| 2 | 0   | 1C | 0 | 2-1C | n/a |      NA |    NA |     NA |     NA | 59.99 | 58.65 |   NA |\n",
       "| 2 | 0   | 1D | 0 | 2-1D | n/a |      NA |    NA |     NA |     NA | 57.77 | 56.06 |   NA |\n",
       "| 2 | 48  | 2A | 0 | 2-2A | n/a |      NA |    NA |     NA |     NA | 53.00 | 51.66 |   NA |\n",
       "| 2 | 48  | 2B | 0 | 2-2B | n/a |      NA |    NA |     NA |     NA | 54.76 | 53.43 |   NA |\n",
       "| 2 | 48  | 2C | 1 | 2-2C | 29  | 133.975 | 4.903 | 11.165 | 22.246 | 61.88 | 60.40 | 0.75 |\n",
       "| 2 | 48  | 2D | 1 | 2-2D | 29  | 120.610 | 4.820 | 10.181 | 20.208 | 62.97 | 61.44 | 0.71 |\n",
       "| 2 | 160 | 3A | 1 | 2-3A | 28  |  83.259 | 3.412 |  8.647 | 23.794 | 54.07 | 52.93 | 0.38 |\n",
       "| 2 | 160 | 3B | 1 | 2-3B | 29  | 114.598 | 4.208 | 10.114 | 23.334 | 51.23 | 50.15 | 0.55 |\n",
       "| 2 | 160 | 3C | 1 | 2-3C | 29  | 121.291 | 4.010 | 10.465 | 21.684 | 64.83 | 63.66 | 0.54 |\n",
       "| 2 | 160 | 3D | 1 | 2-3D | 29  | 119.207 | 4.080 | 10.098 | 21.705 | 60.46 | 59.35 | 0.50 |\n",
       "\n"
      ],
      "text/plain": [
       "   wk treatment egg_label alive egg_code hh_Stage embryo_area_mm2\n",
       "1  1  0         1A        0     1-1A     n/a           NA        \n",
       "2  1  0         1B        1     1-1B     29       143.374        \n",
       "3  1  0         1C        1     1-1C     29       154.968        \n",
       "4  1  0         1D        1     1-1D     30       120.004        \n",
       "5  1  48        2A        1     1-2A     30       119.195        \n",
       "6  1  48        2B        1     1-2B     30       134.437        \n",
       "7  1  48        2C        1     1-2C     29       162.930        \n",
       "8  1  48        2D        1     1-2D     29       131.186        \n",
       "9  1  160       3A        0     1-3A     n/a           NA        \n",
       "10 1  160       3B        0     1-3B     n/a           NA        \n",
       "11 1  160       3C        1     1-3C     28       123.596        \n",
       "12 1  160       3D        1     1-3D     29       149.771        \n",
       "13 2  0         1A        1     2-1A     29       133.915        \n",
       "14 2  0         1B        0     2-1B     n/a           NA        \n",
       "15 2  0         1C        0     2-1C     n/a           NA        \n",
       "16 2  0         1D        0     2-1D     n/a           NA        \n",
       "17 2  48        2A        0     2-2A     n/a           NA        \n",
       "18 2  48        2B        0     2-2B     n/a           NA        \n",
       "19 2  48        2C        1     2-2C     29       133.975        \n",
       "20 2  48        2D        1     2-2D     29       120.610        \n",
       "21 2  160       3A        1     2-3A     28        83.259        \n",
       "22 2  160       3B        1     2-3B     29       114.598        \n",
       "23 2  160       3C        1     2-3C     29       121.291        \n",
       "24 2  160       3D        1     2-3D     29       119.207        \n",
       "   eye_diameter_mm bump_to_beak_length_mm embryo_length_mm pre_exp_egg_weight\n",
       "1     NA               NA                     NA              NA             \n",
       "2  5.335           11.310                 27.179              NA             \n",
       "3  5.287           11.873                 26.491              NA             \n",
       "4  4.595           10.135                 23.468              NA             \n",
       "5  4.063            9.887                 24.819              NA             \n",
       "6  4.595           11.206                 24.739              NA             \n",
       "7  5.375           10.267                 29.976              NA             \n",
       "8  4.637            9.428                 26.424              NA             \n",
       "9     NA               NA                     NA              NA             \n",
       "10    NA               NA                     NA              NA             \n",
       "11 4.499           10.459                 23.573              NA             \n",
       "12 5.523           11.355                 26.108              NA             \n",
       "13 4.389           10.646                 22.478           62.39             \n",
       "14    NA               NA                     NA           56.51             \n",
       "15    NA               NA                     NA           59.99             \n",
       "16    NA               NA                     NA           57.77             \n",
       "17    NA               NA                     NA           53.00             \n",
       "18    NA               NA                     NA           54.76             \n",
       "19 4.903           11.165                 22.246           61.88             \n",
       "20 4.820           10.181                 20.208           62.97             \n",
       "21 3.412            8.647                 23.794           54.07             \n",
       "22 4.208           10.114                 23.334           51.23             \n",
       "23 4.010           10.465                 21.684           64.83             \n",
       "24 4.080           10.098                 21.705           60.46             \n",
       "   post_exp_egg_weight embryo_weight\n",
       "1  57.67                 NA         \n",
       "2  54.06               0.81         \n",
       "3  51.63               0.91         \n",
       "4  60.08               0.82         \n",
       "5  50.47               0.64         \n",
       "6  48.89               0.57         \n",
       "7  57.04               0.49         \n",
       "8  55.43               0.41         \n",
       "9  52.33                 NA         \n",
       "10 50.96                 NA         \n",
       "11 55.68               0.77         \n",
       "12 54.15               0.94         \n",
       "13 60.85               0.63         \n",
       "14 54.93                 NA         \n",
       "15 58.65                 NA         \n",
       "16 56.06                 NA         \n",
       "17 51.66                 NA         \n",
       "18 53.43                 NA         \n",
       "19 60.40               0.75         \n",
       "20 61.44               0.71         \n",
       "21 52.93               0.38         \n",
       "22 50.15               0.55         \n",
       "23 63.66               0.54         \n",
       "24 59.35               0.50         "
      ]
     },
     "metadata": {},
     "output_type": "display_data"
    }
   ],
   "source": [
    "# post-process\n",
    "data$treatment <- as.factor(data$treatment)\n",
    "# data$egg_label <- as.factor(data$egg_label)\n",
    "data$alive <- as.factor(data$alive)\n",
    "data$hh_Stage <- as.factor(data$hh_Stage)\n",
    "\n",
    "# converting the <chr> to <dbl>\n",
    "data$embryo_area_mm2 <- as.numeric(data$embryo_area_mm2)\n",
    "data$eye_diameter_mm <- as.numeric(data$eye_diameter_mm)\n",
    "data$bump_to_beak_length_mm <- as.numeric(data$bump_to_beak_length_mm)\n",
    "data$embryo_length_mm <- as.numeric(data$embryo_length_mm)\n",
    "data$pre_exp_egg_weight <- as.numeric(data$pre_exp_egg_weight)\n",
    "data$embryo_weight <- as.numeric(data$embryo_weight)\n",
    "\n",
    "# warning messages can be ignored. chr vars that are N/As are forcibly converted to NA\n",
    "data"
   ]
  },
  {
   "cell_type": "markdown",
   "id": "7e16ff88-b860-45f8-8ec8-1560abc72ec7",
   "metadata": {},
   "source": [
    "# Exploration"
   ]
  },
  {
   "cell_type": "markdown",
   "id": "d56b46f0-a473-4f62-b28a-7c9a260f949c",
   "metadata": {},
   "source": [
    "Taking a look at the control (0) and the treatments (48, 160)\n",
    "> Prolonged duration of the UV incubation, has reduced the sizes below (non-treatment columns excluding the embryo weight col)\n",
    "\n",
    "Must do a statistical analysis to see if there is any significance in this reduction"
   ]
  },
  {
   "cell_type": "code",
   "execution_count": 141,
   "id": "0a09991a-e925-4e9d-a12f-eef7f8fc1362",
   "metadata": {},
   "outputs": [
    {
     "data": {
      "text/html": [
       "<table class=\"dataframe\">\n",
       "<caption>A tibble: 3 × 6</caption>\n",
       "<thead>\n",
       "\t<tr><th scope=col>treatment</th><th scope=col>mean_embryo_area_mm2</th><th scope=col>mean_eye_diameter_mm</th><th scope=col>mean_bump_to_beak_length_mm</th><th scope=col>mean_embryo_length_mm</th><th scope=col>mean_embryo_weight</th></tr>\n",
       "\t<tr><th scope=col>&lt;fct&gt;</th><th scope=col>&lt;dbl&gt;</th><th scope=col>&lt;dbl&gt;</th><th scope=col>&lt;dbl&gt;</th><th scope=col>&lt;dbl&gt;</th><th scope=col>&lt;dbl&gt;</th></tr>\n",
       "</thead>\n",
       "<tbody>\n",
       "\t<tr><td>0  </td><td>138.0652</td><td>4.901500</td><td>10.99100</td><td>24.90400</td><td>0.7925000</td></tr>\n",
       "\t<tr><td>48 </td><td>133.7222</td><td>4.732167</td><td>10.35567</td><td>24.73533</td><td>0.5950000</td></tr>\n",
       "\t<tr><td>160</td><td>118.6203</td><td>4.288667</td><td>10.18967</td><td>23.36633</td><td>0.6133333</td></tr>\n",
       "</tbody>\n",
       "</table>\n"
      ],
      "text/latex": [
       "A tibble: 3 × 6\n",
       "\\begin{tabular}{llllll}\n",
       " treatment & mean\\_embryo\\_area\\_mm2 & mean\\_eye\\_diameter\\_mm & mean\\_bump\\_to\\_beak\\_length\\_mm & mean\\_embryo\\_length\\_mm & mean\\_embryo\\_weight\\\\\n",
       " <fct> & <dbl> & <dbl> & <dbl> & <dbl> & <dbl>\\\\\n",
       "\\hline\n",
       "\t 0   & 138.0652 & 4.901500 & 10.99100 & 24.90400 & 0.7925000\\\\\n",
       "\t 48  & 133.7222 & 4.732167 & 10.35567 & 24.73533 & 0.5950000\\\\\n",
       "\t 160 & 118.6203 & 4.288667 & 10.18967 & 23.36633 & 0.6133333\\\\\n",
       "\\end{tabular}\n"
      ],
      "text/markdown": [
       "\n",
       "A tibble: 3 × 6\n",
       "\n",
       "| treatment &lt;fct&gt; | mean_embryo_area_mm2 &lt;dbl&gt; | mean_eye_diameter_mm &lt;dbl&gt; | mean_bump_to_beak_length_mm &lt;dbl&gt; | mean_embryo_length_mm &lt;dbl&gt; | mean_embryo_weight &lt;dbl&gt; |\n",
       "|---|---|---|---|---|---|\n",
       "| 0   | 138.0652 | 4.901500 | 10.99100 | 24.90400 | 0.7925000 |\n",
       "| 48  | 133.7222 | 4.732167 | 10.35567 | 24.73533 | 0.5950000 |\n",
       "| 160 | 118.6203 | 4.288667 | 10.18967 | 23.36633 | 0.6133333 |\n",
       "\n"
      ],
      "text/plain": [
       "  treatment mean_embryo_area_mm2 mean_eye_diameter_mm\n",
       "1 0         138.0652             4.901500            \n",
       "2 48        133.7222             4.732167            \n",
       "3 160       118.6203             4.288667            \n",
       "  mean_bump_to_beak_length_mm mean_embryo_length_mm mean_embryo_weight\n",
       "1 10.99100                    24.90400              0.7925000         \n",
       "2 10.35567                    24.73533              0.5950000         \n",
       "3 10.18967                    23.36633              0.6133333         "
      ]
     },
     "metadata": {},
     "output_type": "display_data"
    }
   ],
   "source": [
    "data |> group_by(treatment) |> summarize(mean_embryo_area_mm2 = mean(embryo_area_mm2, na.rm = TRUE), \n",
    "                                        mean_eye_diameter_mm = mean(eye_diameter_mm, na.rm = TRUE),\n",
    "                                        mean_bump_to_beak_length_mm = mean(bump_to_beak_length_mm, na.rm = TRUE),\n",
    "                                        mean_embryo_length_mm = mean(embryo_length_mm, na.rm = TRUE),\n",
    "                                        mean_embryo_weight = mean(embryo_weight, na.rm = TRUE))"
   ]
  },
  {
   "cell_type": "code",
   "execution_count": 170,
   "id": "73c95326-efbc-4054-878a-d5a95df0b785",
   "metadata": {},
   "outputs": [],
   "source": [
    "# seperating the data by the their type\n",
    "control <- data |> filter(treatment == 0)\n",
    "treatment1 <- data |> filter(treatment == 48)\n",
    "treatment2 <- data |> filter(treatment == 160)"
   ]
  },
  {
   "cell_type": "markdown",
   "id": "d8765241-81d0-4dea-8d3b-a4792588d14c",
   "metadata": {
    "jp-MarkdownHeadingCollapsed": true,
    "tags": []
   },
   "source": [
    "## alive contingency table"
   ]
  },
  {
   "cell_type": "markdown",
   "id": "f5381398-e7fb-4c93-bb96-554eca2fa1ac",
   "metadata": {},
   "source": [
    "> cannot determine due to insufficent sample size in the contingency table (each entry must be >4)"
   ]
  },
  {
   "cell_type": "code",
   "execution_count": 143,
   "id": "097729f7-7fe5-473e-83ee-060f20b7e821",
   "metadata": {},
   "outputs": [
    {
     "data": {
      "text/plain": [
       "     \n",
       "      0 1\n",
       "  0   4 4\n",
       "  48  2 6\n",
       "  160 2 6"
      ]
     },
     "metadata": {},
     "output_type": "display_data"
    },
    {
     "name": "stderr",
     "output_type": "stream",
     "text": [
      "Warning message in chisq.test(table(data$treatment, data$alive)):\n",
      "“Chi-squared approximation may be incorrect”\n"
     ]
    },
    {
     "data": {
      "text/plain": [
       "\n",
       "\tPearson's Chi-squared test\n",
       "\n",
       "data:  table(data$treatment, data$alive)\n",
       "X-squared = 1.5, df = 2, p-value = 0.4724\n"
      ]
     },
     "metadata": {},
     "output_type": "display_data"
    }
   ],
   "source": [
    "table(data$treatment, data$alive)\n",
    "chisq.test(table(data$treatment, data$alive))"
   ]
  },
  {
   "cell_type": "markdown",
   "id": "90ba6ebd-a8da-4d8d-97f6-158a472cd2a1",
   "metadata": {
    "jp-MarkdownHeadingCollapsed": true,
    "tags": []
   },
   "source": [
    "## fisher's exact test on treatment and alive"
   ]
  },
  {
   "cell_type": "markdown",
   "id": "808d4f2b-d37a-4ca9-a274-c51a6202881e",
   "metadata": {},
   "source": [
    "The p-value is higher than 0.05 so the null hypothesis is rejected therefore:\n",
    ">  there isn't statistically significant evidence to suggest an association between the treatment and the outcome of being alive"
   ]
  },
  {
   "cell_type": "code",
   "execution_count": 144,
   "id": "d5dd4ace-91c3-4c36-9889-76df8cb474e0",
   "metadata": {},
   "outputs": [
    {
     "data": {
      "text/plain": [
       "\n",
       "\tFisher's Exact Test for Count Data\n",
       "\n",
       "data:  table(data$treatment, data$alive)\n",
       "p-value = 0.6418\n",
       "alternative hypothesis: two.sided\n"
      ]
     },
     "metadata": {},
     "output_type": "display_data"
    }
   ],
   "source": [
    "fisher.test(table(data$treatment, data$alive))"
   ]
  },
  {
   "cell_type": "markdown",
   "id": "25e9b3e2-30bb-4ab7-9435-ebc5a6515922",
   "metadata": {
    "jp-MarkdownHeadingCollapsed": true,
    "tags": []
   },
   "source": [
    "## corrolation matrix"
   ]
  },
  {
   "cell_type": "code",
   "execution_count": 145,
   "id": "32f33130-821f-4347-a581-b38735866f2e",
   "metadata": {},
   "outputs": [
    {
     "name": "stderr",
     "output_type": "stream",
     "text": [
      "Warning message in cor(numeric_data, use = \"complete.obs\"):\n",
      "“the standard deviation is zero”\n"
     ]
    },
    {
     "data": {
      "text/html": [
       "<table class=\"dataframe\">\n",
       "<caption>A matrix: 8 × 8 of type dbl</caption>\n",
       "<thead>\n",
       "\t<tr><th></th><th scope=col>wk</th><th scope=col>embryo_area_mm2</th><th scope=col>eye_diameter_mm</th><th scope=col>bump_to_beak_length_mm</th><th scope=col>embryo_length_mm</th><th scope=col>pre_exp_egg_weight</th><th scope=col>post-exp-egg-weight</th><th scope=col>embryo_weight</th></tr>\n",
       "</thead>\n",
       "<tbody>\n",
       "\t<tr><th scope=row>wk</th><td> 1</td><td>        NA</td><td>        NA</td><td>        NA</td><td>        NA</td><td>        NA</td><td>        NA</td><td>        NA</td></tr>\n",
       "\t<tr><th scope=row>embryo_area_mm2</th><td>NA</td><td> 1.0000000</td><td> 0.8120049</td><td> 0.9731805</td><td>-0.5089057</td><td> 0.6353316</td><td> 0.6251934</td><td> 0.8192687</td></tr>\n",
       "\t<tr><th scope=row>eye_diameter_mm</th><td>NA</td><td> 0.8120049</td><td> 1.0000000</td><td> 0.8156074</td><td>-0.6200004</td><td> 0.4773104</td><td> 0.4565363</td><td> 0.9863162</td></tr>\n",
       "\t<tr><th scope=row>bump_to_beak_length_mm</th><td>NA</td><td> 0.9731805</td><td> 0.8156074</td><td> 1.0000000</td><td>-0.4445587</td><td> 0.5938423</td><td> 0.5854017</td><td> 0.8327707</td></tr>\n",
       "\t<tr><th scope=row>embryo_length_mm</th><td>NA</td><td>-0.5089057</td><td>-0.6200004</td><td>-0.4445587</td><td> 1.0000000</td><td>-0.7612517</td><td>-0.7590918</td><td>-0.5868656</td></tr>\n",
       "\t<tr><th scope=row>pre_exp_egg_weight</th><td>NA</td><td> 0.6353316</td><td> 0.4773104</td><td> 0.5938423</td><td>-0.7612517</td><td> 1.0000000</td><td> 0.9993894</td><td> 0.5300872</td></tr>\n",
       "\t<tr><th scope=row>post-exp-egg-weight</th><td>NA</td><td> 0.6251934</td><td> 0.4565363</td><td> 0.5854017</td><td>-0.7590918</td><td> 0.9993894</td><td> 1.0000000</td><td> 0.5081142</td></tr>\n",
       "\t<tr><th scope=row>embryo_weight</th><td>NA</td><td> 0.8192687</td><td> 0.9863162</td><td> 0.8327707</td><td>-0.5868656</td><td> 0.5300872</td><td> 0.5081142</td><td> 1.0000000</td></tr>\n",
       "</tbody>\n",
       "</table>\n"
      ],
      "text/latex": [
       "A matrix: 8 × 8 of type dbl\n",
       "\\begin{tabular}{r|llllllll}\n",
       "  & wk & embryo\\_area\\_mm2 & eye\\_diameter\\_mm & bump\\_to\\_beak\\_length\\_mm & embryo\\_length\\_mm & pre\\_exp\\_egg\\_weight & post-exp-egg-weight & embryo\\_weight\\\\\n",
       "\\hline\n",
       "\twk &  1 &         NA &         NA &         NA &         NA &         NA &         NA &         NA\\\\\n",
       "\tembryo\\_area\\_mm2 & NA &  1.0000000 &  0.8120049 &  0.9731805 & -0.5089057 &  0.6353316 &  0.6251934 &  0.8192687\\\\\n",
       "\teye\\_diameter\\_mm & NA &  0.8120049 &  1.0000000 &  0.8156074 & -0.6200004 &  0.4773104 &  0.4565363 &  0.9863162\\\\\n",
       "\tbump\\_to\\_beak\\_length\\_mm & NA &  0.9731805 &  0.8156074 &  1.0000000 & -0.4445587 &  0.5938423 &  0.5854017 &  0.8327707\\\\\n",
       "\tembryo\\_length\\_mm & NA & -0.5089057 & -0.6200004 & -0.4445587 &  1.0000000 & -0.7612517 & -0.7590918 & -0.5868656\\\\\n",
       "\tpre\\_exp\\_egg\\_weight & NA &  0.6353316 &  0.4773104 &  0.5938423 & -0.7612517 &  1.0000000 &  0.9993894 &  0.5300872\\\\\n",
       "\tpost-exp-egg-weight & NA &  0.6251934 &  0.4565363 &  0.5854017 & -0.7590918 &  0.9993894 &  1.0000000 &  0.5081142\\\\\n",
       "\tembryo\\_weight & NA &  0.8192687 &  0.9863162 &  0.8327707 & -0.5868656 &  0.5300872 &  0.5081142 &  1.0000000\\\\\n",
       "\\end{tabular}\n"
      ],
      "text/markdown": [
       "\n",
       "A matrix: 8 × 8 of type dbl\n",
       "\n",
       "| <!--/--> | wk | embryo_area_mm2 | eye_diameter_mm | bump_to_beak_length_mm | embryo_length_mm | pre_exp_egg_weight | post-exp-egg-weight | embryo_weight |\n",
       "|---|---|---|---|---|---|---|---|---|\n",
       "| wk |  1 |         NA |         NA |         NA |         NA |         NA |         NA |         NA |\n",
       "| embryo_area_mm2 | NA |  1.0000000 |  0.8120049 |  0.9731805 | -0.5089057 |  0.6353316 |  0.6251934 |  0.8192687 |\n",
       "| eye_diameter_mm | NA |  0.8120049 |  1.0000000 |  0.8156074 | -0.6200004 |  0.4773104 |  0.4565363 |  0.9863162 |\n",
       "| bump_to_beak_length_mm | NA |  0.9731805 |  0.8156074 |  1.0000000 | -0.4445587 |  0.5938423 |  0.5854017 |  0.8327707 |\n",
       "| embryo_length_mm | NA | -0.5089057 | -0.6200004 | -0.4445587 |  1.0000000 | -0.7612517 | -0.7590918 | -0.5868656 |\n",
       "| pre_exp_egg_weight | NA |  0.6353316 |  0.4773104 |  0.5938423 | -0.7612517 |  1.0000000 |  0.9993894 |  0.5300872 |\n",
       "| post-exp-egg-weight | NA |  0.6251934 |  0.4565363 |  0.5854017 | -0.7590918 |  0.9993894 |  1.0000000 |  0.5081142 |\n",
       "| embryo_weight | NA |  0.8192687 |  0.9863162 |  0.8327707 | -0.5868656 |  0.5300872 |  0.5081142 |  1.0000000 |\n",
       "\n"
      ],
      "text/plain": [
       "                       wk embryo_area_mm2 eye_diameter_mm\n",
       "wk                      1         NA              NA     \n",
       "embryo_area_mm2        NA  1.0000000       0.8120049     \n",
       "eye_diameter_mm        NA  0.8120049       1.0000000     \n",
       "bump_to_beak_length_mm NA  0.9731805       0.8156074     \n",
       "embryo_length_mm       NA -0.5089057      -0.6200004     \n",
       "pre_exp_egg_weight     NA  0.6353316       0.4773104     \n",
       "post-exp-egg-weight    NA  0.6251934       0.4565363     \n",
       "embryo_weight          NA  0.8192687       0.9863162     \n",
       "                       bump_to_beak_length_mm embryo_length_mm\n",
       "wk                             NA                     NA      \n",
       "embryo_area_mm2         0.9731805             -0.5089057      \n",
       "eye_diameter_mm         0.8156074             -0.6200004      \n",
       "bump_to_beak_length_mm  1.0000000             -0.4445587      \n",
       "embryo_length_mm       -0.4445587              1.0000000      \n",
       "pre_exp_egg_weight      0.5938423             -0.7612517      \n",
       "post-exp-egg-weight     0.5854017             -0.7590918      \n",
       "embryo_weight           0.8327707             -0.5868656      \n",
       "                       pre_exp_egg_weight post-exp-egg-weight embryo_weight\n",
       "wk                             NA                 NA                  NA   \n",
       "embryo_area_mm2         0.6353316          0.6251934           0.8192687   \n",
       "eye_diameter_mm         0.4773104          0.4565363           0.9863162   \n",
       "bump_to_beak_length_mm  0.5938423          0.5854017           0.8327707   \n",
       "embryo_length_mm       -0.7612517         -0.7590918          -0.5868656   \n",
       "pre_exp_egg_weight      1.0000000          0.9993894           0.5300872   \n",
       "post-exp-egg-weight     0.9993894          1.0000000           0.5081142   \n",
       "embryo_weight           0.5300872          0.5081142           1.0000000   "
      ]
     },
     "metadata": {},
     "output_type": "display_data"
    },
    {
     "data": {
      "image/png": "[encoded data removed]",
      "text/plain": [
       "plot without title"
      ]
     },
     "metadata": {
      "image/png": {
       "height": 420,
       "width": 420
      }
     },
     "output_type": "display_data"
    }
   ],
   "source": [
    "numeric_data <- data[sapply(data, is.numeric)]\n",
    "\n",
    "# Compute the correlation matrix\n",
    "cor(numeric_data, use = \"complete.obs\")  # 'use' argument handles missing values\n",
    "\n",
    "# Visualize the correlation matrix with a pairs plot\n",
    "pairs(numeric_data)"
   ]
  },
  {
   "cell_type": "markdown",
   "id": "c189c5f3-32d6-4787-b663-2f7b862b7e48",
   "metadata": {
    "jp-MarkdownHeadingCollapsed": true,
    "tags": []
   },
   "source": [
    "## embryo_area_mm2"
   ]
  },
  {
   "cell_type": "markdown",
   "id": "40e7fd2c-0c12-4cf1-9604-8d8d92230b28",
   "metadata": {},
   "source": [
    "### is the data normally distributed?"
   ]
  },
  {
   "cell_type": "markdown",
   "id": "3478c0e3-c8e8-4618-9d5d-aba2457b184e",
   "metadata": {},
   "source": [
    "Since the p Value is not less that the significane level of 0.05, we don’t reject the null hypothesis. Therefore, the tested sample is confirmed to follow a normal distribution (thou, we already know that!).\n",
    "> Control and treatment 1 and treatment 2 **are normally distributed.** "
   ]
  },
  {
   "cell_type": "code",
   "execution_count": 146,
   "id": "2680285e-6992-49eb-92b3-be886b4e0ff1",
   "metadata": {},
   "outputs": [
    {
     "data": {
      "text/plain": [
       "\n",
       "\tShapiro-Wilk normality test\n",
       "\n",
       "data:  control$embryo_area_mm2\n",
       "W = 0.99724, p-value = 0.9908\n"
      ]
     },
     "metadata": {},
     "output_type": "display_data"
    },
    {
     "data": {
      "text/plain": [
       "\n",
       "\tShapiro-Wilk normality test\n",
       "\n",
       "data:  treatment1$embryo_area_mm2\n",
       "W = 0.83658, p-value = 0.1221\n"
      ]
     },
     "metadata": {},
     "output_type": "display_data"
    },
    {
     "data": {
      "text/plain": [
       "\n",
       "\tShapiro-Wilk normality test\n",
       "\n",
       "data:  treatment2$embryo_area_mm2\n",
       "W = 0.91133, p-value = 0.4452\n"
      ]
     },
     "metadata": {},
     "output_type": "display_data"
    }
   ],
   "source": [
    "shapiro.test(control$embryo_area_mm2)\n",
    "shapiro.test(treatment1$embryo_area_mm2)\n",
    "shapiro.test(treatment2$embryo_area_mm2)"
   ]
  },
  {
   "cell_type": "markdown",
   "id": "85b6c152-0773-481f-98bc-8b018a0ecbb3",
   "metadata": {
    "tags": []
   },
   "source": [
    "### ANOVA for embryo_area_mm2\n",
    "the high p-value>0.05 shows that \n",
    "> there is no statistically significant difference in the means across the groups represented in your 'treatment' variable"
   ]
  },
  {
   "cell_type": "code",
   "execution_count": 147,
   "id": "cc94e673-577f-4fa1-a75c-9c72c7da4e80",
   "metadata": {},
   "outputs": [
    {
     "data": {
      "text/plain": [
       "Call:\n",
       "   aov(formula = embryo_area_mm2 ~ treatment, data = data)\n",
       "\n",
       "Terms:\n",
       "                treatment Residuals\n",
       "Sum of Squares   1108.598  4169.592\n",
       "Deg. of Freedom         2        13\n",
       "\n",
       "Residual standard error: 17.90916\n",
       "Estimated effects may be unbalanced\n",
       "8 observations deleted due to missingness"
      ]
     },
     "metadata": {},
     "output_type": "display_data"
    }
   ],
   "source": [
    "aov(embryo_area_mm2 ~ treatment, data = data)"
   ]
  },
  {
   "cell_type": "markdown",
   "id": "bbde2331-05c5-4e56-ada6-64e4ffc55e11",
   "metadata": {},
   "source": [
    "### t.test for embryo_area_mm2\n",
    "> there is no statistically significant difference in the embryo area (mm^2) between the control and treatment groups"
   ]
  },
  {
   "cell_type": "code",
   "execution_count": 148,
   "id": "44cb496b-990f-4a1f-ab04-da74e037625a",
   "metadata": {},
   "outputs": [
    {
     "data": {
      "text/plain": [
       "\n",
       "\tWelch Two Sample t-test\n",
       "\n",
       "data:  control$embryo_area_mm2 and treatment1$embryo_area_mm2\n",
       "t = 0.44277, df = 6.8899, p-value = 0.6715\n",
       "alternative hypothesis: true difference in means is not equal to 0\n",
       "95 percent confidence interval:\n",
       " -18.92639  27.61256\n",
       "sample estimates:\n",
       "mean of x mean of y \n",
       " 138.0652  133.7222 \n"
      ]
     },
     "metadata": {},
     "output_type": "display_data"
    },
    {
     "data": {
      "text/plain": [
       "\n",
       "\tWelch Two Sample t-test\n",
       "\n",
       "data:  control$embryo_area_mm2 and treatment2$embryo_area_mm2\n",
       "t = 1.7027, df = 7.9314, p-value = 0.1274\n",
       "alternative hypothesis: true difference in means is not equal to 0\n",
       "95 percent confidence interval:\n",
       " -6.929353 45.819186\n",
       "sample estimates:\n",
       "mean of x mean of y \n",
       " 138.0652  118.6203 \n"
      ]
     },
     "metadata": {},
     "output_type": "display_data"
    }
   ],
   "source": [
    "t.test(control$embryo_area_mm2, treatment1$embryo_area_mm2, paired = FALSE)\n",
    "t.test(control$embryo_area_mm2, treatment2$embryo_area_mm2, paired = FALSE)"
   ]
  },
  {
   "cell_type": "markdown",
   "id": "9ff20a0f-7dc7-4414-acd2-d0f21b562a39",
   "metadata": {
    "jp-MarkdownHeadingCollapsed": true,
    "tags": []
   },
   "source": [
    "## eye_diameter_mm"
   ]
  },
  {
   "cell_type": "markdown",
   "id": "4eb0d405-23ea-4b41-9c66-5919d57c78ff",
   "metadata": {},
   "source": [
    "### is the data normally distributed\n",
    "> eye_diameter_mm is normally distributed across all groups"
   ]
  },
  {
   "cell_type": "code",
   "execution_count": 149,
   "id": "330fdf59-97cd-49b0-907a-2aaba5506378",
   "metadata": {},
   "outputs": [
    {
     "data": {
      "text/plain": [
       "\n",
       "\tShapiro-Wilk normality test\n",
       "\n",
       "data:  control$embryo_area_mm2\n",
       "W = 0.99724, p-value = 0.9908\n"
      ]
     },
     "metadata": {},
     "output_type": "display_data"
    },
    {
     "data": {
      "text/plain": [
       "\n",
       "\tShapiro-Wilk normality test\n",
       "\n",
       "data:  treatment1$embryo_area_mm2\n",
       "W = 0.83658, p-value = 0.1221\n"
      ]
     },
     "metadata": {},
     "output_type": "display_data"
    },
    {
     "data": {
      "text/plain": [
       "\n",
       "\tShapiro-Wilk normality test\n",
       "\n",
       "data:  treatment2$embryo_area_mm2\n",
       "W = 0.91133, p-value = 0.4452\n"
      ]
     },
     "metadata": {},
     "output_type": "display_data"
    }
   ],
   "source": [
    "shapiro.test(control$embryo_area_mm2)\n",
    "shapiro.test(treatment1$embryo_area_mm2)\n",
    "shapiro.test(treatment2$embryo_area_mm2)"
   ]
  },
  {
   "cell_type": "markdown",
   "id": "7a705d00-40b3-45ae-b947-72974504613a",
   "metadata": {
    "tags": []
   },
   "source": [
    "### ANOVA for eye_diameter_mm\n",
    "> there is no statistically significant difference"
   ]
  },
  {
   "cell_type": "code",
   "execution_count": 150,
   "id": "e28e63e6-131f-4c13-82e1-2cea0e613960",
   "metadata": {},
   "outputs": [
    {
     "data": {
      "text/plain": [
       "Call:\n",
       "   aov(formula = eye_diameter_mm ~ treatment, data = data)\n",
       "\n",
       "Terms:\n",
       "                treatment Residuals\n",
       "Sum of Squares   1.048915  4.082987\n",
       "Deg. of Freedom         2        13\n",
       "\n",
       "Residual standard error: 0.5604248\n",
       "Estimated effects may be unbalanced\n",
       "8 observations deleted due to missingness"
      ]
     },
     "metadata": {},
     "output_type": "display_data"
    }
   ],
   "source": [
    "aov(eye_diameter_mm ~ treatment, data = data)"
   ]
  },
  {
   "cell_type": "markdown",
   "id": "36539caa-5fe9-4979-9d32-d0fde7a0a814",
   "metadata": {
    "tags": []
   },
   "source": [
    "### t.tests for eye_diameter_mm\n",
    "> there is no statistically significant difference"
   ]
  },
  {
   "cell_type": "code",
   "execution_count": 151,
   "id": "8a951694-4732-4c1a-aa00-40293bf54ed4",
   "metadata": {},
   "outputs": [
    {
     "data": {
      "text/plain": [
       "\n",
       "\tWelch Two Sample t-test\n",
       "\n",
       "data:  control$eye_diameter_mm and treatment1$eye_diameter_mm\n",
       "t = 0.56882, df = 6.0293, p-value = 0.59\n",
       "alternative hypothesis: true difference in means is not equal to 0\n",
       "95 percent confidence interval:\n",
       " -0.5582354  0.8969021\n",
       "sample estimates:\n",
       "mean of x mean of y \n",
       " 4.901500  4.732167 \n"
      ]
     },
     "metadata": {},
     "output_type": "display_data"
    },
    {
     "data": {
      "text/plain": [
       "\n",
       "\tWelch Two Sample t-test\n",
       "\n",
       "data:  control$eye_diameter_mm and treatment2$eye_diameter_mm\n",
       "t = 1.6385, df = 7.9513, p-value = 0.1402\n",
       "alternative hypothesis: true difference in means is not equal to 0\n",
       "95 percent confidence interval:\n",
       " -0.2505956  1.4762622\n",
       "sample estimates:\n",
       "mean of x mean of y \n",
       " 4.901500  4.288667 \n"
      ]
     },
     "metadata": {},
     "output_type": "display_data"
    }
   ],
   "source": [
    "t.test(control$eye_diameter_mm, treatment1$eye_diameter_mm, paired = FALSE)\n",
    "t.test(control$eye_diameter_mm, treatment2$eye_diameter_mm, paired = FALSE)"
   ]
  },
  {
   "cell_type": "markdown",
   "id": "0aa92be9-ccbe-4803-929f-09ca42573dd7",
   "metadata": {
    "jp-MarkdownHeadingCollapsed": true,
    "tags": []
   },
   "source": [
    "## bump_to_beak_length_mm"
   ]
  },
  {
   "cell_type": "markdown",
   "id": "4b0aea74-86fc-40d7-bd15-c7391ee88ecd",
   "metadata": {},
   "source": [
    "### is the data normally distributed?\n",
    "> bump_to_beak_length_mm is normally distributed across all groups"
   ]
  },
  {
   "cell_type": "code",
   "execution_count": 152,
   "id": "98c5402a-337f-47a7-a8bc-1708e1075477",
   "metadata": {},
   "outputs": [
    {
     "data": {
      "text/plain": [
       "\n",
       "\tShapiro-Wilk normality test\n",
       "\n",
       "data:  control$bump_to_beak_length_mm\n",
       "W = 0.98345, p-value = 0.922\n"
      ]
     },
     "metadata": {},
     "output_type": "display_data"
    },
    {
     "data": {
      "text/plain": [
       "\n",
       "\tShapiro-Wilk normality test\n",
       "\n",
       "data:  treatment1$bump_to_beak_length_mm\n",
       "W = 0.9127, p-value = 0.4544\n"
      ]
     },
     "metadata": {},
     "output_type": "display_data"
    },
    {
     "data": {
      "text/plain": [
       "\n",
       "\tShapiro-Wilk normality test\n",
       "\n",
       "data:  treatment2$bump_to_beak_length_mm\n",
       "W = 0.90102, p-value = 0.38\n"
      ]
     },
     "metadata": {},
     "output_type": "display_data"
    }
   ],
   "source": [
    "shapiro.test(control$bump_to_beak_length_mm)\n",
    "shapiro.test(treatment1$bump_to_beak_length_mm)\n",
    "shapiro.test(treatment2$bump_to_beak_length_mm)"
   ]
  },
  {
   "cell_type": "markdown",
   "id": "5c1e544c-dc65-404b-8f29-b49fc4e4db66",
   "metadata": {},
   "source": [
    "### t.test for bump_to_beak_length_mm"
   ]
  },
  {
   "cell_type": "code",
   "execution_count": 153,
   "id": "2da4934d-ced6-4761-9271-42dede253dad",
   "metadata": {},
   "outputs": [
    {
     "data": {
      "text/plain": [
       "\n",
       "\tWelch Two Sample t-test\n",
       "\n",
       "data:  control$bump_to_beak_length_mm and treatment1$bump_to_beak_length_mm\n",
       "t = 1.332, df = 6.2176, p-value = 0.2296\n",
       "alternative hypothesis: true difference in means is not equal to 0\n",
       "95 percent confidence interval:\n",
       " -0.5219616  1.7926282\n",
       "sample estimates:\n",
       "mean of x mean of y \n",
       " 10.99100  10.35567 \n"
      ]
     },
     "metadata": {},
     "output_type": "display_data"
    },
    {
     "data": {
      "text/plain": [
       "\n",
       "\tWelch Two Sample t-test\n",
       "\n",
       "data:  control$bump_to_beak_length_mm and treatment2$bump_to_beak_length_mm\n",
       "t = 1.53, df = 7.2905, p-value = 0.1682\n",
       "alternative hypothesis: true difference in means is not equal to 0\n",
       "95 percent confidence interval:\n",
       " -0.4271663  2.0298330\n",
       "sample estimates:\n",
       "mean of x mean of y \n",
       " 10.99100  10.18967 \n"
      ]
     },
     "metadata": {},
     "output_type": "display_data"
    }
   ],
   "source": [
    "t.test(control$bump_to_beak_length_mm, treatment1$bump_to_beak_length_mm, paired = FALSE)\n",
    "t.test(control$bump_to_beak_length_mm, treatment2$bump_to_beak_length_mm, paired = FALSE)"
   ]
  },
  {
   "cell_type": "markdown",
   "id": "e887037a-183d-4596-81a8-9ca4e920165d",
   "metadata": {
    "jp-MarkdownHeadingCollapsed": true,
    "tags": []
   },
   "source": [
    "## embryo_weight"
   ]
  },
  {
   "cell_type": "markdown",
   "id": "d483804c-3294-4fbf-8914-e5cec9acfc86",
   "metadata": {
    "jp-MarkdownHeadingCollapsed": true,
    "tags": []
   },
   "source": [
    "### is the data normally distributed?\n",
    "> bump_to_beak_length_mm is normally distributed across all groups"
   ]
  },
  {
   "cell_type": "code",
   "execution_count": 154,
   "id": "97dc1f43-f803-4db1-b058-13eeb0f380fa",
   "metadata": {},
   "outputs": [
    {
     "data": {
      "text/plain": [
       "\n",
       "\tShapiro-Wilk normality test\n",
       "\n",
       "data:  control$embryo_weight\n",
       "W = 0.91275, p-value = 0.4971\n"
      ]
     },
     "metadata": {},
     "output_type": "display_data"
    },
    {
     "data": {
      "text/plain": [
       "\n",
       "\tShapiro-Wilk normality test\n",
       "\n",
       "data:  treatment1$embryo_weight\n",
       "W = 0.96427, p-value = 0.852\n"
      ]
     },
     "metadata": {},
     "output_type": "display_data"
    },
    {
     "data": {
      "text/plain": [
       "\n",
       "\tShapiro-Wilk normality test\n",
       "\n",
       "data:  treatment2$embryo_weight\n",
       "W = 0.91732, p-value = 0.4862\n"
      ]
     },
     "metadata": {},
     "output_type": "display_data"
    }
   ],
   "source": [
    "shapiro.test(control$embryo_weight)\n",
    "shapiro.test(treatment1$embryo_weight)\n",
    "shapiro.test(treatment2$embryo_weight)"
   ]
  },
  {
   "cell_type": "markdown",
   "id": "b1350e3b-08f7-4caa-8b0c-c7118d4df765",
   "metadata": {},
   "source": [
    "### t.tests for embryo_weight\n",
    "p-values < 0.05 therefore:\n",
    "> **there is a statistically significant difference when comparing control with each of the treatments**\n"
   ]
  },
  {
   "cell_type": "code",
   "execution_count": 155,
   "id": "1fdf8318-95fa-4185-a85e-58732ae3ddfd",
   "metadata": {},
   "outputs": [
    {
     "data": {
      "text/plain": [
       "\n",
       "\tWelch Two Sample t-test\n",
       "\n",
       "data:  control$embryo_weight and treatment1$embryo_weight\n",
       "t = 2.4926, df = 7.0952, p-value = 0.041\n",
       "alternative hypothesis: true difference in means is not equal to 0\n",
       "95 percent confidence interval:\n",
       " 0.0106512 0.3843488\n",
       "sample estimates:\n",
       "mean of x mean of y \n",
       "   0.7925    0.5950 \n"
      ]
     },
     "metadata": {},
     "output_type": "display_data"
    },
    {
     "data": {
      "text/plain": [
       "\n",
       "\tWelch Two Sample t-test\n",
       "\n",
       "data:  control$embryo_weight and treatment2$embryo_weight\n",
       "t = 1.7594, df = 7.9364, p-value = 0.1169\n",
       "alternative hypothesis: true difference in means is not equal to 0\n",
       "95 percent confidence interval:\n",
       " -0.05599691  0.41433025\n",
       "sample estimates:\n",
       "mean of x mean of y \n",
       "0.7925000 0.6133333 \n"
      ]
     },
     "metadata": {},
     "output_type": "display_data"
    }
   ],
   "source": [
    "t.test(control$embryo_weight, treatment1$embryo_weight, paired = FALSE)\n",
    "t.test(control$embryo_weight, treatment2$embryo_weight, paired = FALSE)"
   ]
  },
  {
   "cell_type": "markdown",
   "id": "ea463c09-bcec-4335-ac36-99439377a876",
   "metadata": {},
   "source": [
    "### Wilcoxon Rank-Sum Test (Mann-Whitney U Test)\n",
    "To ensure that the assumption of normality was not necessarily effecting the unpaired t.test the assumption was removed by doing a mann whitney u test\n",
    "p-values < 0.05 therefore:\n",
    "> **there is a statistically significant difference when comparing control with each of the treatments**"
   ]
  },
  {
   "cell_type": "code",
   "execution_count": 156,
   "id": "b6ee142d-feb7-4127-8276-94dc8e4a6f3a",
   "metadata": {},
   "outputs": [
    {
     "data": {
      "text/plain": [
       "\n",
       "\tWilcoxon rank sum exact test\n",
       "\n",
       "data:  control$embryo_weight and treatment1$embryo_weight\n",
       "W = 21, p-value = 0.06667\n",
       "alternative hypothesis: true location shift is not equal to 0\n"
      ]
     },
     "metadata": {},
     "output_type": "display_data"
    },
    {
     "data": {
      "text/plain": [
       "\n",
       "\tWilcoxon rank sum exact test\n",
       "\n",
       "data:  control$embryo_weight and treatment2$embryo_weight\n",
       "W = 19, p-value = 0.1714\n",
       "alternative hypothesis: true location shift is not equal to 0\n"
      ]
     },
     "metadata": {},
     "output_type": "display_data"
    }
   ],
   "source": [
    "wilcox.test(control$embryo_weight, treatment1$embryo_weight, paired = FALSE)\n",
    "wilcox.test(control$embryo_weight, treatment2$embryo_weight, paired = FALSE)"
   ]
  },
  {
   "cell_type": "markdown",
   "id": "b4c4c8d9-f49b-484e-b8c5-6d2c3327dc3f",
   "metadata": {
    "jp-MarkdownHeadingCollapsed": true,
    "tags": []
   },
   "source": [
    "## post-exp-egg-weight"
   ]
  },
  {
   "cell_type": "markdown",
   "id": "86cbf3e0-a411-413d-befe-8902d467321e",
   "metadata": {
    "jp-MarkdownHeadingCollapsed": true,
    "tags": []
   },
   "source": [
    "### Is the data normally distributed? \n",
    "> nornmality is assumed due to the high p-values"
   ]
  },
  {
   "cell_type": "code",
   "execution_count": 171,
   "id": "0a19119f-4f79-4922-a937-75dfe5f6ed6e",
   "metadata": {},
   "outputs": [
    {
     "data": {
      "text/plain": [
       "\n",
       "\tShapiro-Wilk normality test\n",
       "\n",
       "data:  control$post_exp_egg_weight\n",
       "W = 0.97212, p-value = 0.9141\n"
      ]
     },
     "metadata": {},
     "output_type": "display_data"
    },
    {
     "data": {
      "text/plain": [
       "\n",
       "\tShapiro-Wilk normality test\n",
       "\n",
       "data:  treatment1$post_exp_egg_weight\n",
       "W = 0.95029, p-value = 0.7142\n"
      ]
     },
     "metadata": {},
     "output_type": "display_data"
    },
    {
     "data": {
      "text/plain": [
       "\n",
       "\tShapiro-Wilk normality test\n",
       "\n",
       "data:  treatment2$post_exp_egg_weight\n",
       "W = 0.90151, p-value = 0.2981\n"
      ]
     },
     "metadata": {},
     "output_type": "display_data"
    }
   ],
   "source": [
    "shapiro.test(control$post_exp_egg_weight)\n",
    "shapiro.test(treatment1$post_exp_egg_weight)\n",
    "shapiro.test(treatment2$post_exp_egg_weight)"
   ]
  },
  {
   "cell_type": "markdown",
   "id": "ae8e65c1-a69d-455b-aa18-102e52dadac3",
   "metadata": {},
   "source": [
    "### t.tests for post_exp_egg_weight\n",
    "> No signif"
   ]
  },
  {
   "cell_type": "code",
   "execution_count": 173,
   "id": "3de921a9-5d5f-42d0-9249-485bb92b84fe",
   "metadata": {},
   "outputs": [
    {
     "data": {
      "text/plain": [
       "\n",
       "\tWelch Two Sample t-test\n",
       "\n",
       "data:  control$post_exp_egg_weight and treatment1$post_exp_egg_weight\n",
       "t = 0.96585, df = 12.432, p-value = 0.3525\n",
       "alternative hypothesis: true difference in means is not equal to 0\n",
       "95 percent confidence interval:\n",
       " -2.365001  6.157501\n",
       "sample estimates:\n",
       "mean of x mean of y \n",
       " 56.74125  54.84500 \n"
      ]
     },
     "metadata": {},
     "output_type": "display_data"
    },
    {
     "data": {
      "text/plain": [
       "\n",
       "\tWelch Two Sample t-test\n",
       "\n",
       "data:  control$post_exp_egg_weight and treatment2$post_exp_egg_weight\n",
       "t = 0.93715, df = 12.431, p-value = 0.3665\n",
       "alternative hypothesis: true difference in means is not equal to 0\n",
       "95 percent confidence interval:\n",
       " -2.421481  6.101481\n",
       "sample estimates:\n",
       "mean of x mean of y \n",
       " 56.74125  54.90125 \n"
      ]
     },
     "metadata": {},
     "output_type": "display_data"
    }
   ],
   "source": [
    "t.test(control$post_exp_egg_weight, treatment1$post_exp_egg_weight, paired = FALSE)\n",
    "t.test(control$post_exp_egg_weight, treatment2$post_exp_egg_weight, paired = FALSE)"
   ]
  },
  {
   "cell_type": "markdown",
   "id": "475edb92-54ec-416c-ba87-474a5059cece",
   "metadata": {},
   "source": [
    "# Visualization "
   ]
  },
  {
   "cell_type": "markdown",
   "id": "06f6ba76-04f1-42a6-9406-b14badd30623",
   "metadata": {},
   "source": [
    "### Blox plots of embryo area by treatment"
   ]
  },
  {
   "cell_type": "code",
   "execution_count": null,
   "id": "52e92682-aca6-471d-ba04-b245cb453fe4",
   "metadata": {},
   "outputs": [],
   "source": [
    "ggplot(data, aes(x=factor(treatment), y=embryo_area_mm2, fill=factor(treatment))) + \n",
    "    geom_boxplot() + \n",
    "    labs(x=\"Treatment\", y=\"Embryo Area (mm^2)\", title=\"Embryo Area across Different Treatments\") + \n",
    "    geom_signif(comparisons = list(c(\"0\", \"48\"), c(\"0\", \"160\")), \n",
    "              map_signif_level=TRUE) +\n",
    "    theme_minimal()"
   ]
  },
  {
   "cell_type": "markdown",
   "id": "8014bef8-ac9d-4def-a137-06fdd9cd0809",
   "metadata": {},
   "source": [
    "### avg embryo weight by treatment  "
   ]
  },
  {
   "cell_type": "code",
   "execution_count": null,
   "id": "ecd57195-d40b-44b6-92d3-48c4b8bcbaa1",
   "metadata": {},
   "outputs": [],
   "source": [
    "data$weight <- as.numeric(as.character(data$embryo_weight)) \n",
    "avg_weight <- aggregate(weight ~ treatment, data, mean, na.rm = TRUE)  \n",
    "ggplot(avg_weight, aes(x=factor(treatment), y=weight, fill=factor(treatment))) + \n",
    "    geom_bar(stat=\"identity\") + \n",
    "    labs(x=\"Treatment\", y=\"Average Embryo Weight\", title=\"Average Embryo Weight by Treatment\") +\n",
    "    geom_signif(comparisons = list(c(\"0\", \"48\"), c(\"0\", \"160\")), \n",
    "              map_signif_level=TRUE) +\n",
    "    theme_minimal()"
   ]
  },
  {
   "cell_type": "markdown",
   "id": "bae47637-5067-45a0-a400-192e8b71cfe7",
   "metadata": {},
   "source": [
    "### eye_diameter_mm vs embryo_length_mm colored by type (exculpatory)"
   ]
  },
  {
   "cell_type": "code",
   "execution_count": null,
   "id": "41037918-36c9-4e93-90c0-5c832f70cdbf",
   "metadata": {},
   "outputs": [],
   "source": [
    "ggplot(data, aes(x=eye_diameter_mm, y=embryo_length_mm, color=factor(treatment))) + \n",
    "    geom_point() + \n",
    "    labs(x=\"Eye Diameter (mm)\", y=\"Embryo Length (mm)\", title=\"Embryo Length vs. Eye Diameter\") + \n",
    "    theme_minimal()"
   ]
  },
  {
   "cell_type": "markdown",
   "id": "c48175cf-68c2-4726-91cf-6ecb4b8d8c7f",
   "metadata": {},
   "source": [
    "### The ratio of the alive vs dead in bar graph"
   ]
  },
  {
   "cell_type": "code",
   "execution_count": null,
   "id": "7bd02fd5-01fe-4f98-bd3e-2efb29c6bc0f",
   "metadata": {},
   "outputs": [],
   "source": [
    "data$alive <- factor(data$alive, levels = c(0, 1), labels = c(\"Dead\", \"Alive\"))\n",
    "\n",
    "ggplot(data, aes(x=factor(treatment), fill=alive)) + \n",
    "    geom_bar(position = \"fill\") +  \n",
    "    scale_y_continuous() + \n",
    "    labs(x = \"Treatment\", y = \"Percentage\", fill = \"Status\", \n",
    "         title = \"Percentage of Dead and Alive Embryos by Treatment\") +\n",
    "    theme_minimal()"
   ]
  },
  {
   "cell_type": "markdown",
   "id": "80a4fcc6-c4e4-4981-8027-9aae3a3c20ba",
   "metadata": {},
   "source": [
    "### embryo weight bar graph"
   ]
  },
  {
   "cell_type": "code",
   "execution_count": null,
   "id": "1696f222-656a-4a49-a814-3621d0f56552",
   "metadata": {},
   "outputs": [],
   "source": [
    "ggplot(data, aes(x=factor(treatment), y=embryo_weight, fill=factor(treatment))) + \n",
    "    geom_boxplot() + \n",
    "    labs(x=\"Treatment\", y=\"Embryo Weight\", title=\"Embryo Weight by Treatment\") + \n",
    "    geom_signif(comparisons = list(c(\"0\", \"48\"), c(\"0\", \"160\")), \n",
    "              map_signif_level=TRUE, na.rm = TRUE, test = \"t.test\") +\n",
    "    theme_minimal()"
   ]
  },
  {
   "cell_type": "code",
   "execution_count": null,
   "id": "534864ef-f40e-4523-bb4f-17b1ce6471dd",
   "metadata": {},
   "outputs": [],
   "source": [
    "?geom_signif"
   ]
  },
  {
   "cell_type": "code",
   "execution_count": null,
   "id": "545585e6-4b28-4738-b73f-314798d4dc73",
   "metadata": {},
   "outputs": [],
   "source": []
  }
 ],
 "metadata": {
  "kernelspec": {
   "display_name": "R",
   "language": "R",
   "name": "ir"
  },
  "language_info": {
   "codemirror_mode": "r",
   "file_extension": ".r",
   "mimetype": "text/x-r-source",
   "name": "R",
   "pygments_lexer": "r",
   "version": "4.3.0"
  }
 },
 "nbformat": 4,
 "nbformat_minor": 5
}
